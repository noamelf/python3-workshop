{
 "cells": [
  {
   "cell_type": "markdown",
   "metadata": {},
   "source": [
    "# Generators\n",
    "Generators are built on top of the iteartor concept.\n",
    "\n",
    "## Iterators\n",
    "Iterator objects represents a sequence of data. The iterator specification (protocol) includes 2 methods each iterator object must implement:\n",
    "- `__iter__`: return the object itself.\n",
    "- `__next__`: returns the next object in the sequence, raises StopIteration if empty."
   ]
  },
  {
   "cell_type": "code",
   "execution_count": 72,
   "metadata": {},
   "outputs": [
    {
     "name": "stdout",
     "output_type": "stream",
     "text": [
      "h e l l o \n",
      "1 2 3 \n",
      "1 2 3 \n",
      "1 2 3 \n",
      "1 2 3 "
     ]
    }
   ],
   "source": [
    "def printit(x):\n",
    "    for i in x:\n",
    "        print(i, end=' ')\n",
    "        \n",
    "printit('hello')\n",
    "print()\n",
    "printit([1,2,3])\n",
    "print()\n",
    "printit((1,2,3))\n",
    "print()\n",
    "printit({1,2,3})\n",
    "print()\n",
    "printit({1:'h',2:'a',3:'b'})"
   ]
  },
  {
   "cell_type": "code",
   "execution_count": 29,
   "metadata": {},
   "outputs": [
    {
     "name": "stdout",
     "output_type": "stream",
     "text": [
      "iter\n",
      "0\n",
      "1\n",
      "2\n"
     ]
    }
   ],
   "source": [
    "class iter_range:\n",
    "\n",
    "    def __init__(self, n):\n",
    "        self.i, self.n = 0, n\n",
    "    \n",
    "    def __iter__(self):\n",
    "        print('iter')\n",
    "        return self\n",
    "    \n",
    "    def  __next__ (self):\n",
    "#         print('calling next (i={})'.format(self.i))\n",
    "        if self.i < self.n:\n",
    "            i = self.i\n",
    "            self.i += 1\n",
    "            return i\n",
    "        else:\n",
    "            raise StopIteration()\n",
    "\n",
    "# 3 in iter_range(3)\n",
    "iterr = iter_range(3)\n",
    "# print(next(iterr))\n",
    "# print(next(iterr))         \n",
    "# print(next(iterr))\n",
    "# print(next(iterr))\n",
    "for i in iter_range(3):\n",
    "    print(i)"
   ]
  },
  {
   "cell_type": "markdown",
   "metadata": {},
   "source": [
    "## Generators\n",
    "Generators helps us generate iterators easily. A generator is essentially a functions that contains a yield statement in it's body."
   ]
  },
  {
   "cell_type": "code",
   "execution_count": 35,
   "metadata": {},
   "outputs": [],
   "source": [
    "def gen_range(n):\n",
    "    i = 0\n",
    "    while i < n:\n",
    "        yield i\n",
    "        i += 1"
   ]
  },
  {
   "cell_type": "code",
   "execution_count": 36,
   "metadata": {},
   "outputs": [
    {
     "name": "stdout",
     "output_type": "stream",
     "text": [
      "0 1 2 "
     ]
    }
   ],
   "source": [
    "for i in gen_range(3):\n",
    "    print(i, end=' ')"
   ]
  },
  {
   "cell_type": "code",
   "execution_count": 45,
   "metadata": {},
   "outputs": [
    {
     "name": "stdout",
     "output_type": "stream",
     "text": [
      "1\n"
     ]
    }
   ],
   "source": [
    "# for i in range(3):\n",
    "#     print(i)\n",
    "r = list(range(3))\n",
    "r[2] = 1\n",
    "print(r[2])"
   ]
  },
  {
   "cell_type": "markdown",
   "metadata": {},
   "source": [
    "### Show us more!"
   ]
  },
  {
   "cell_type": "markdown",
   "metadata": {},
   "source": [
    "ok, so here is an \"old school\" example of random number list generation:"
   ]
  },
  {
   "cell_type": "code",
   "execution_count": 51,
   "metadata": {},
   "outputs": [
    {
     "name": "stdout",
     "output_type": "stream",
     "text": [
      "[24, 44, 29, 52, 65, 16, 39, 30, 38, 58, 39, 1, 17, 48, 29, 11, 51, 4, 68, 80, 26, 59, 77, 70, 46, 69, 19, 91, 33, 5, 79, 11, 15, 35, 78, 30, 65, 73, 45, 31, 71, 67, 61, 80, 82, 70, 7, 98, 64, 55, 93, 85, 99, 20, 23, 43, 92, 58, 12, 45, 33, 7, 92, 92, 83, 70, 6, 41, 49, 34, 46, 73, 2, 86, 83, 99, 70, 87, 36, 85, 19, 84, 62, 1, 57, 1, 20, 75, 20, 93, 59, 39, 48, 74, 79, 11, 43, 99, 45, 36]\n",
      "\n",
      "24 44 29 52 65 16 39 30 38 58 39 1 17 48 29 11 51 4 68 80 26 59 77 70 46 69 19 91 33 5 79 11 15 35 78 30 65 73 45 31 71 67 61 80 82 70 7 98 64 55 93 85 99 20 23 43 "
     ]
    }
   ],
   "source": [
    "import random\n",
    "def random_numbers_old_school(n):\n",
    "    l = []\n",
    "    for _ in range(n):\n",
    "        l.append(random.randint(1, 100))\n",
    "    return l\n",
    "\n",
    "lr = random_numbers_old_school(100)\n",
    "print(lr)\n",
    "print()\n",
    "for i in lr:\n",
    "    print(i, end=' ')\n",
    "    if i == 43:\n",
    "        break"
   ]
  },
  {
   "cell_type": "markdown",
   "metadata": {},
   "source": [
    "Now the generator way:"
   ]
  },
  {
   "cell_type": "code",
   "execution_count": 71,
   "metadata": {},
   "outputs": [
    {
     "name": "stdout",
     "output_type": "stream",
     "text": [
      "[100, 69, 43, 60, 74, 17, 67, 79, 54, 58, 51, 96, 76, 45, 73, 39, 30, 37, 55, 1, 72, 53, 13, 43, 35, 76, 8, 51, 61, 84, 64, 15, 97, 99, 21, 57, 49, 53, 53, 3, 43, 26, 60, 81, 41, 13, 78, 71, 30, 52, 37, 14, 13, 18, 53, 36, 41, 2, 41, 2, 18, 55, 81, 68, 4, 87, 75, 87, 98, 24, 73, 84, 18, 90, 17, 6, 93, 66, 89, 94, 73, 77, 3, 17, 92, 74, 59, 60, 99, 52, 25, 65, 45, 84, 50, 31, 69, 4, 46, 5]\n"
     ]
    }
   ],
   "source": [
    "def random_numbers_generator():\n",
    "    i = 0\n",
    "    while i < 100:\n",
    "        yield random.randint(1, 100)\n",
    "        i+=1\n",
    "l = list(random_numbers_generator())\n",
    "\n",
    "print(l)\n",
    "# for i in random_numbers_generator():\n",
    "#     print(i, end=' ')\n",
    "#     if i == 43:\n",
    "#         break"
   ]
  },
  {
   "cell_type": "markdown",
   "metadata": {},
   "source": [
    "**Two differences (advantages in most cases):**\n",
    "1. **Lazy** - doesn't pre-calculate the whole list.\n",
    "2. Can run forever, no need to give a range."
   ]
  },
  {
   "cell_type": "markdown",
   "metadata": {},
   "source": [
    "### Practice!\n",
    "Write a simple generator that accumulates total values from a given sequence.  \n",
    "This:\n",
    "```python\n",
    "def accumulate(data):\n",
    "    # ==============================\n",
    "    # --- Your code here! ----------\n",
    "    # ==============================\n",
    "\n",
    "for i, total in accumulate(range(1, 11)):\n",
    "    print(i, total)\n",
    "    if not total % 21:\n",
    "        break\n",
    "  \n",
    "\n",
    "print()\n",
    "\n",
    "for i, total in accumulate([100, 10, 5, 200]):\n",
    "    print(i, total)\n",
    "    if not total % 21:\n",
    "        break\n",
    "```\n",
    "Should print:\n",
    "```python\n",
    "1 1\n",
    "2 3\n",
    "3 6\n",
    "4 10\n",
    "5 15\n",
    "6 21\n",
    "7 28\n",
    "8 36\n",
    "9 45\n",
    "10 55\n",
    "\n",
    "100 100\n",
    "10 110\n",
    "5 115\n",
    "200 315\n",
    "```"
   ]
  },
  {
   "cell_type": "markdown",
   "metadata": {},
   "source": [
    "### Practice More!\n",
    "Create a generator that yields integers entered from the command line:\n",
    "```python\n",
    "def intputs(prompt=\">> \", invalid_message=\"Invalid input\"):\n",
    "    \"\"\"Generates a sequence of integers read from standard input, one per row,\n",
    "    until an empty line is reached.  For non-numeric inputs, displays \n",
    "    invalid_input to the users, and continues input.\n",
    "    \"\"\"\n",
    "    # ----- YOUR CODE HERE! ----------------------\n",
    "\n",
    "\n",
    "for x in intputs():\n",
    "    print(x if x % 7 else \"Boom!\")\n",
    "print(\"Done!\")\n",
    "```\n",
    "\n",
    "Example input and output:\n",
    "```python\n",
    ">> 5\n",
    "5\n",
    ">> 10\n",
    "10\n",
    ">> 14\n",
    "Boom!\n",
    ">> 14x\n",
    "Invalid input\n",
    ">> hello\n",
    "Invalid input\n",
    ">> 21\n",
    "Boom!\n",
    ">> 70\n",
    "Boom!\n",
    ">> 2\n",
    "2\n",
    ">>\n",
    "Done!\n",
    "```"
   ]
  },
  {
   "cell_type": "markdown",
   "metadata": {},
   "source": [
    "## Generator expression\n",
    "We know what this does:"
   ]
  },
  {
   "cell_type": "code",
   "execution_count": 84,
   "metadata": {},
   "outputs": [
    {
     "data": {
      "text/plain": [
       "[0, 1, 4, 9, 16, 25, 36, 49, 64, 81]"
      ]
     },
     "execution_count": 84,
     "output_type": "execute_result",
     "metadata": {}
    }
   ],
   "source": [
    "l = [i**2 for i in range(10)]\n",
    "l"
   ]
  },
  {
   "cell_type": "markdown",
   "metadata": {},
   "source": [
    "How about that?"
   ]
  },
  {
   "cell_type": "code",
   "execution_count": 92,
   "metadata": {},
   "outputs": [
    {
     "name": "stdout",
     "output_type": "stream",
     "text": [
      "<generator object <genexpr> at 0x7f5bb72345a0>\n"
     ]
    }
   ],
   "source": [
    "g = (i**2 for i in range(10))\n",
    "print(g)"
   ]
  },
  {
   "cell_type": "code",
   "execution_count": 93,
   "metadata": {},
   "outputs": [
    {
     "name": "stdout",
     "output_type": "stream",
     "text": [
      "0 1 4 9 16 25 "
     ]
    }
   ],
   "source": [
    "for i in g:\n",
    "    print(i, end=' ')\n",
    "    if i == 25:\n",
    "        break"
   ]
  },
  {
   "cell_type": "markdown",
   "metadata": {},
   "source": [
    "What is wrong here?"
   ]
  },
  {
   "cell_type": "code",
   "execution_count": 97,
   "metadata": {},
   "outputs": [],
   "source": [
    "reversed("
   ]
  },
  {
   "cell_type": "markdown",
   "metadata": {},
   "source": [
    "Generators are **exhausted**!\n",
    "You need to see that if you need the values later use it like: `list(g)`."
   ]
  },
  {
   "cell_type": "markdown",
   "metadata": {},
   "source": [
    "### Even more practice!\n",
    "Create a generator that reads files that follow a certain pattern:\n",
    "\n",
    "```python \n",
    "def examine_files(pattern):\n",
    "    \"\"\"Generates tuples (filename, lineno, text) from all files matching the glob pattern specified by pattern\"\"\"\n",
    "\n",
    "sum_found=0\n",
    "for filename, lineno, text in examine_files(\"*.py\"):\n",
    "    s_text = text.split()\n",
    "    if 'def' in s_text:\n",
    "        sum_found += 1\n",
    "        print('Found function in {} line #{}: {}'.format(filename, lineno, text.strip()))\n",
    "    if 'class' in s_text:\n",
    "        sum_found += 1\n",
    "        print('Found class in {} line #{}: {}'.format(filename, lineno, text.strip()))\n",
    "    if sum_found == 10:\n",
    "        print('Found enough')\n",
    "        break\n",
    "```\n",
    "**Tip**: use [iglob](https://docs.python.org/3.5/library/glob.html#glob.iglob)  \n",
    "**Bonus**: use a dictionary to define what are we looking for and itearate over it. This way it will be easier to add more searches."
   ]
  },
  {
   "cell_type": "code",
   "execution_count": 102,
   "metadata": {},
   "outputs": [
    {
     "name": "stdout",
     "output_type": "stream",
     "text": [
      "printed five\n",
      "printed seven\n"
     ]
    }
   ],
   "source": [
    "for i in range(10):\n",
    "    if i == 5:\n",
    "        print('printed five')\n",
    "    elif i == 7:\n",
    "        print('printed seven')"
   ]
  },
  {
   "cell_type": "code",
   "execution_count": 101,
   "metadata": {},
   "outputs": [
    {
     "name": "stdout",
     "output_type": "stream",
     "text": [
      "printed five\n",
      "printed seven\n"
     ]
    }
   ],
   "source": [
    "d = {\n",
    "    5: 'printed five',\n",
    "    7: 'printed seven',\n",
    "}\n",
    "\n",
    "for i in range(10):\n",
    "    x = d.get(i)\n",
    "    if x:\n",
    "        print(x)"
   ]
  }
 ],
 "metadata": {
  "kernelspec": {
   "display_name": "Python 3",
   "language": "python",
   "name": "python3"
  },
  "language_info": {
   "codemirror_mode": {
    "name": "ipython",
    "version": 3.0
   },
   "file_extension": ".py",
   "mimetype": "text/x-python",
   "name": "python",
   "nbconvert_exporter": "python",
   "pygments_lexer": "ipython3",
   "version": "3.4.0"
  }
 },
 "nbformat": 4,
 "nbformat_minor": 0
}