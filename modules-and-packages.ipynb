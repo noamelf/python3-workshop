{
 "cells": [
  {
   "cell_type": "markdown",
   "metadata": {},
   "source": [
    "# Modules and packages"
   ]
  },
  {
   "cell_type": "markdown",
   "metadata": {},
   "source": [
    "`tags.py`:\n",
    "```python\n",
    "def tag(name, content):\n",
    "    return \"<{0}>{1}</{0}>\".format(name, content)\n",
    "\n",
    "def p(content):\n",
    "    return tag('p', content)\n",
    "\n",
    "def li(content):\n",
    "    return tag('li', content)\n",
    "\n",
    "def ul(items):\n",
    "    return tag('ul', \"\".join([li(x) for x in items])\n",
    "```\n",
    "\n",
    "               \n",
    "`main.py` (option 1):\n",
    "```python\n",
    "import tags\n",
    "print tags.ul('One', 'Two', 'Three')\n",
    "```\n",
    "\n",
    "\n",
    "`main.py` (option 2):\n",
    "```python\n",
    "from tags import ul\n",
    "print ul('One', 'Two', 'Three')\n",
    "```"
   ]
  },
  {
   "cell_type": "markdown",
   "metadata": {},
   "source": [
    "### Modules are singeltones\n",
    "`stuff.py`:\n",
    "```python\n",
    "words = ['hello']\n",
    "```\n",
    "\n",
    "`a.py`:\n",
    "```python\n",
    "import stuff\n",
    "def foo():\n",
    "    stuff.words.append('apple')\n",
    "```\n",
    "\n",
    "`b.py`:\n",
    "```python\n",
    "import stuff\n",
    "def foo():\n",
    "    stuff.words.append('banana')\n",
    "```\n",
    "\n",
    "`program.py`:\n",
    "```python\n",
    "import a, b, stuff\n",
    "a.foo()\n",
    "b.foo()\n",
    "print(stuff.words)\n",
    "```\n"
   ]
  },
  {
   "cell_type": "markdown",
   "metadata": {},
   "source": [
    "###Python \n",
    "If a folder contains `__init__.py`, it can be imported as the name of the folder as well:\n",
    "\n",
    "`foo/__init__.py`:\n",
    "```python\n",
    "def greeting():\n",
    "    return \"Hello World!\"\n",
    "```\n",
    "\n",
    "`main.py`:\n",
    "```python\n",
    "from foo import greeting\n",
    "print greeting()\n",
    "```"
   ]
  }
 ],
 "metadata": {
  "kernelspec": {
   "display_name": "Python 3",
   "language": "python",
   "name": "python3"
  },
  "language_info": {
   "codemirror_mode": {
    "name": "ipython",
    "version": 3
   },
   "file_extension": ".py",
   "mimetype": "text/x-python",
   "name": "python",
   "nbconvert_exporter": "python",
   "pygments_lexer": "ipython3",
   "version": "3.4.3"
  }
 },
 "nbformat": 4,
 "nbformat_minor": 0
}
