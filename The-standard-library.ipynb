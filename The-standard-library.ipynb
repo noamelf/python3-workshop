{
 "cells": [
  {
   "cell_type": "markdown",
   "metadata": {},
   "source": [
    "# The Standard Library"
   ]
  },
  {
   "cell_type": "markdown",
   "metadata": {},
   "source": [
    "## Time\n",
    "`time.time` return the time in seconds since the epoch as a floating point number."
   ]
  },
  {
   "cell_type": "code",
   "execution_count": 1,
   "metadata": {},
   "outputs": [
    {
     "name": "stdout",
     "output_type": "stream",
     "text": [
      "1.1572110652923584\n"
     ]
    }
   ],
   "source": [
    "import time\n",
    "\n",
    "t0 = time.time()\n",
    "for i in range(10000000):\n",
    "    pass\n",
    "t1 = time.time()\n",
    "\n",
    "print(t1 - t0)"
   ]
  },
  {
   "cell_type": "markdown",
   "metadata": {},
   "source": [
    "`time.sleep` Suspend execution for the given number of seconds. "
   ]
  },
  {
   "cell_type": "code",
   "execution_count": 3,
   "metadata": {},
   "outputs": [
    {
     "name": "stdout",
     "output_type": "stream",
     "text": [
      "Processing, please wait, ...\n",
      "Done.\n"
     ]
    }
   ],
   "source": [
    "import time\n",
    "print('Processing, please wait, ...')\n",
    "time.sleep(2)\n",
    "print('Done.')"
   ]
  },
  {
   "cell_type": "markdown",
   "metadata": {},
   "source": [
    "## Logging"
   ]
  },
  {
   "cell_type": "code",
   "execution_count": 61,
   "metadata": {},
   "outputs": [],
   "source": [
    "import logging\n",
    "# We are using the reload function to restart the logging module configuration\n",
    "from imp import reload"
   ]
  },
  {
   "cell_type": "markdown",
   "metadata": {},
   "source": [
    "Basic usage:"
   ]
  },
  {
   "cell_type": "code",
   "execution_count": 51,
   "metadata": {},
   "outputs": [
    {
     "name": "stderr",
     "output_type": "stream",
     "text": [
      "WARNING:root:Lowfuel\n",
      "ERROR:root:Nol. Trying to glide.\n",
      "CRITICAL:root:Glide attempt failed. About to crash.\n"
     ]
    }
   ],
   "source": [
    "reload(logging)\n",
    "\n",
    "logging.debug('Alltems operational')\n",
    "logging.info('Airspeed knots')\n",
    "logging.warn('Lowfuel')\n",
    "logging.error('Nol. Trying to glide.')\n",
    "logging.critical('Glide attempt failed. About to crash.')"
   ]
  },
  {
   "cell_type": "markdown",
   "metadata": {},
   "source": [
    "Why can't we see the debug and warning messages?\n",
    "The logger verbosity levels default value is warning."
   ]
  },
  {
   "cell_type": "code",
   "execution_count": 52,
   "metadata": {},
   "outputs": [
    {
     "name": "stderr",
     "output_type": "stream",
     "text": [
      "DEBUG:root:Alltems operational\n",
      "INFO:root:Airspeed knots\n"
     ]
    }
   ],
   "source": [
    "logging.root.setLevel(logging.DEBUG)\n",
    "logging.debug('Alltems operational')\n",
    "logging.info('Airspeed knots')"
   ]
  },
  {
   "cell_type": "markdown",
   "metadata": {},
   "source": [
    "### `basicConfig`\n",
    "With `basicConfig` we can create customisations that fits our needs.  \n",
    "For example make our logs more informative:"
   ]
  },
  {
   "cell_type": "code",
   "execution_count": 60,
   "metadata": {},
   "outputs": [
    {
     "name": "stderr",
     "output_type": "stream",
     "text": [
      "[DEBUG 2015-07-14 22:59:59,160 <ipython-input-60-8bd2b8d57226>:5]  you'll see a lot more information now...\n"
     ]
    }
   ],
   "source": [
    "reload(logging)\n",
    "\n",
    "logging.basicConfig(format='[%(levelname)s %(asctime)s %(module)s:%(lineno)d]  %(message)s', \n",
    "                    level=logging.DEBUG)\n",
    "logging.debug(\"you'll see a lot more information now...\")"
   ]
  },
  {
   "cell_type": "markdown",
   "metadata": {},
   "source": [
    "Or logging to a file:"
   ]
  },
  {
   "cell_type": "code",
   "execution_count": 55,
   "metadata": {},
   "outputs": [],
   "source": [
    "reload(logging)\n",
    "\n",
    "logging.basicConfig(filename='example.log',level=logging.DEBUG)\n",
    "logging.debug('This message should go to the log file')"
   ]
  },
  {
   "cell_type": "markdown",
   "metadata": {},
   "source": [
    "### Resources:\n",
    "\n",
    "- [Logging module docs](https://docs.python.org/3.5/library/logging.html)\n",
    "- [Logging howto](https://docs.python.org/3.5/howto/logging.html)\n",
    "- [Become a Logging Expert in 30 Minutes](https://youtu.be/24_4WWkSmNo), Gavin M. Roy, PyCon 2013"
   ]
  },
  {
   "cell_type": "markdown",
   "metadata": {},
   "source": [
    "## OS "
   ]
  },
  {
   "cell_type": "markdown",
   "metadata": {},
   "source": [
    "### Some basic functions:\n",
    "\n",
    "#### `os.listdir`\n",
    "\n",
    "Return a list containing the names of the entries in the directory given by path:"
   ]
  },
  {
   "cell_type": "code",
   "execution_count": 68,
   "metadata": {},
   "outputs": [
    {
     "name": "stdout",
     "output_type": "stream",
     "text": [
      ".ipynb_checkpoints\n",
      "modules-and-packages.ipynb\n",
      "The-standard-library.ipynb\n",
      "example.log\n",
      "unit-tests.ipynb\n"
     ]
    }
   ],
   "source": [
    "import os\n",
    "\n",
    "for filename in os.listdir('.'):\n",
    "    print(filename)"
   ]
  },
  {
   "cell_type": "markdown",
   "metadata": {},
   "source": [
    "#### `os.path.join` \n",
    "Always use this to concatenate paths:"
   ]
  },
  {
   "cell_type": "code",
   "execution_count": 63,
   "metadata": {},
   "outputs": [
    {
     "data": {
      "text/plain": [
       "'/home/user/Downloads'"
      ]
     },
     "execution_count": 63,
     "output_type": "execute_result",
     "metadata": {}
    }
   ],
   "source": [
    "import os \n",
    "\n",
    "home = '/home/user'\n",
    "os.path.join(home, 'Downloads')"
   ]
  },
  {
   "cell_type": "markdown",
   "metadata": {},
   "source": [
    "#### `os.path.getsize`\n",
    "Gets file size:"
   ]
  },
  {
   "cell_type": "code",
   "execution_count": 69,
   "metadata": {},
   "outputs": [
    {
     "data": {
      "text/plain": [
       "8440"
      ]
     },
     "execution_count": 69,
     "output_type": "execute_result",
     "metadata": {}
    }
   ],
   "source": [
    "os.path.getsize('The-standard-library.ipynb')"
   ]
  },
  {
   "cell_type": "markdown",
   "metadata": {},
   "source": [
    "#### `os.path.isdir`\n",
    "Checks if path is a directory"
   ]
  },
  {
   "cell_type": "code",
   "execution_count": 70,
   "metadata": {},
   "outputs": [
    {
     "data": {
      "text/plain": [
       "False"
      ]
     },
     "execution_count": 70,
     "output_type": "execute_result",
     "metadata": {}
    }
   ],
   "source": [
    "os.path.isdir('The-standard-library.ipynb')"
   ]
  },
  {
   "cell_type": "markdown",
   "metadata": {},
   "source": [
    "#### `os.path.splitext`\n",
    "Splits the file into root, extension:"
   ]
  },
  {
   "cell_type": "code",
   "execution_count": 64,
   "metadata": {},
   "outputs": [
    {
     "data": {
      "text/plain": [
       "('/home/noam/Downloads/xom', '.csv')"
      ]
     },
     "execution_count": 64,
     "output_type": "execute_result",
     "metadata": {}
    }
   ],
   "source": [
    "os.path.splitext('/home/noam/Downloads/xom.csv')"
   ]
  },
  {
   "cell_type": "markdown",
   "metadata": {},
   "source": [
    "### Exercise! File Information by Extension \n",
    "Create a command line program that shows information about different file types in a specified folder. For example:\n",
    "\n",
    "```bash\n",
    "$ python ext_info.py .\n",
    "png 16 2765632\n",
    "py 1 2103\n",
    "pyc 1 608\n",
    "txt 10 34042\n",
    "zip 3 4540097\n",
    "\n",
    "$ python ext_info.py /home/udi/music/\n",
    "m3u 12 97633\n",
    "mp3 52 83654229\n",
    "```\n",
    "\n",
    "In the first example the current folder was checked (by specifying . on the command line as the parameter). 16 files with the \"png\" extension were found, with a total size of 2765632 bytes.\n",
    "\n",
    "Implementation notes:\n",
    "\n",
    "- Subfolders should be ignored.\n",
    "- `jpg` and `JPG` are considered different extensions.\n",
    "- Files with no extensions should include the '.' extension instead. (This also includes files ending with a dot, which is possible in linux)\n",
    "- Output should be sorted by extension using string (lexical) order.\n",
    "- Use `argparse` for the script arguments"
   ]
  }
 ],
 "metadata": {
  "kernelspec": {
   "display_name": "Python 3",
   "language": "python",
   "name": "python3"
  },
  "language_info": {
   "codemirror_mode": {
    "name": "ipython",
    "version": 3.0
   },
   "file_extension": ".py",
   "mimetype": "text/x-python",
   "name": "python",
   "nbconvert_exporter": "python",
   "pygments_lexer": "ipython3",
   "version": "3.4.3"
  }
 },
 "nbformat": 4,
 "nbformat_minor": 0
}